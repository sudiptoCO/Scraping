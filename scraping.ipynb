{
 "cells": [
  {
   "cell_type": "markdown",
   "metadata": {},
   "source": [
    "## Web scraping using BuautifulSoup library"
   ]
  },
  {
   "cell_type": "code",
   "execution_count": 2,
   "metadata": {},
   "outputs": [],
   "source": [
    "import json\n",
    "import requests\n",
    "import pandas as pd\n",
    "from bs4 import BeautifulSoup\n",
    "from datetime import datetime\n"
   ]
  },
  {
   "cell_type": "code",
   "execution_count": 3,
   "metadata": {},
   "outputs": [
    {
     "data": {
      "text/plain": [
       "<Response [200]>"
      ]
     },
     "execution_count": 3,
     "metadata": {},
     "output_type": "execute_result"
    }
   ],
   "source": [
    "url = 'https://www.bbc.com/weather/1275004'\n",
    "r = requests.get(url)\n",
    "r\n"
   ]
  },
  {
   "cell_type": "code",
   "execution_count": 15,
   "metadata": {},
   "outputs": [
    {
     "name": "stdout",
     "output_type": "stream",
     "text": [
      "24°\n",
      "32°\n",
      "25°\n",
      "33°\n",
      "25°\n",
      "33°\n",
      "25°\n",
      "32°\n",
      "25°\n",
      "33°\n",
      "26°\n",
      "34°\n",
      "26°\n",
      "34°\n",
      "26°\n",
      "34°\n",
      "26°\n",
      "34°\n",
      "26°\n",
      "35°\n",
      "27°\n",
      "36°\n",
      "27°\n",
      "36°\n",
      "27°\n",
      "36°\n",
      "27°\n",
      "26°\n",
      "36°\n",
      "26°\n",
      "36°\n",
      "26°\n",
      "36°\n",
      "27°\n",
      "37°\n",
      "27°\n",
      "37°\n",
      "27°\n",
      "38°\n",
      "27°\n",
      "37°\n",
      "27°\n",
      "37°\n",
      "27°27° C\n"
     ]
    }
   ],
   "source": [
    "soup = BeautifulSoup(r.content, 'html.parser')\n",
    "daily_low = soup.find_all('span',attrs={'class': 'wr-value--temperature--c'})\n",
    "daily_low\n",
    "for i in daily_low:\n",
    "    print(i.text)\n",
    "#<span class=\"wr-value--temperature--c\">25°</span>"
   ]
  },
  {
   "cell_type": "code",
   "execution_count": 19,
   "metadata": {},
   "outputs": [
    {
     "name": "stdout",
     "output_type": "stream",
     "text": [
      "Thundery showers and light windsThundery showers and light windsLight rain showers and light windsLight cloud and light windsThundery showers and light windsLight cloud and light windsSunny intervals and light windsSunny intervals and light windsSunny intervals and light windsSunny intervals and light windsSunny intervals and light windsSunny intervals and light windsSunny intervals and light windsSunny intervals and light winds\n"
     ]
    }
   ],
   "source": [
    "daily_summary = soup.find_all('div',attrs={'class': 'wr-day-summary'})\n",
    "daily_summary\n",
    "\n",
    "for i in daily_summary:\n",
    "    print(i.text)\n"
   ]
  },
  {
   "cell_type": "markdown",
   "metadata": {},
   "source": [
    "## Scrap information from wikipedia"
   ]
  },
  {
   "cell_type": "code",
   "execution_count": 24,
   "metadata": {},
   "outputs": [
    {
     "name": "stdout",
     "output_type": "stream",
     "text": [
      "Requirement already satisfied: wikipedia in c:\\users\\dsudi\\appdata\\local\\programs\\python\\python310\\lib\\site-packages (1.4.0)\n",
      "Requirement already satisfied: beautifulsoup4 in c:\\users\\dsudi\\appdata\\local\\programs\\python\\python310\\lib\\site-packages (from wikipedia) (4.11.1)\n",
      "Requirement already satisfied: requests<3.0.0,>=2.0.0 in c:\\users\\dsudi\\appdata\\local\\programs\\python\\python310\\lib\\site-packages (from wikipedia) (2.26.0)\n",
      "Requirement already satisfied: idna<4,>=2.5 in c:\\users\\dsudi\\appdata\\local\\programs\\python\\python310\\lib\\site-packages (from requests<3.0.0,>=2.0.0->wikipedia) (3.3)\n",
      "Requirement already satisfied: certifi>=2017.4.17 in c:\\users\\dsudi\\appdata\\local\\programs\\python\\python310\\lib\\site-packages (from requests<3.0.0,>=2.0.0->wikipedia) (2021.10.8)\n",
      "Requirement already satisfied: urllib3<1.27,>=1.21.1 in c:\\users\\dsudi\\appdata\\local\\programs\\python\\python310\\lib\\site-packages (from requests<3.0.0,>=2.0.0->wikipedia) (1.26.7)\n",
      "Requirement already satisfied: charset-normalizer~=2.0.0 in c:\\users\\dsudi\\appdata\\local\\programs\\python\\python310\\lib\\site-packages (from requests<3.0.0,>=2.0.0->wikipedia) (2.0.7)\n",
      "Requirement already satisfied: soupsieve>1.2 in c:\\users\\dsudi\\appdata\\local\\programs\\python\\python310\\lib\\site-packages (from beautifulsoup4->wikipedia) (2.3.2.post1)\n"
     ]
    }
   ],
   "source": [
    "!pip install wikipedia\n",
    "import wikipedia as wk"
   ]
  },
  {
   "cell_type": "code",
   "execution_count": 28,
   "metadata": {},
   "outputs": [
    {
     "data": {
      "text/plain": [
       "\"In probability theory and statistics, Bayes' theorem (alternatively Bayes' law or Bayes' rule; recently Bayes–Price theorem:\\u200a44,\\u200a45,\\u200a46 and 67\\u200a), named after Thomas Bayes, describes the probability of an event, based on prior knowledge of conditions that might be related to the event. For example, if the risk of developing health problems is known to increase with age, Bayes' theorem allows the risk to an individual of a known age to be assessed more accurately (by conditioning it on their age) than simply assuming that the individual is typical of the population as a whole.\\nOne of the many applications of Bayes' theorem is Bayesian inference, a particular approach to statistical inference. When applied, the probabilities involved in the theorem may have different probability interpretations. With Bayesian probability interpretation, the theorem expresses how a degree of belief, expressed as a probability, should rationally change to account for the availability of related evidence. Bayesian inference is fundamental to Bayesian statistics.\""
      ]
     },
     "execution_count": 28,
     "metadata": {},
     "output_type": "execute_result"
    }
   ],
   "source": [
    "wk.summary('Bayes theorem')"
   ]
  },
  {
   "cell_type": "code",
   "execution_count": 29,
   "metadata": {},
   "outputs": [
    {
     "data": {
      "text/plain": [
       "[\"Bayes' theorem\",\n",
       " 'Thomas Bayes',\n",
       " 'Naive Bayes classifier',\n",
       " 'Bayes estimator',\n",
       " 'Bayesian statistics',\n",
       " 'Bayes factor',\n",
       " \"Evidence under Bayes' theorem\",\n",
       " 'Posterior probability',\n",
       " 'Naive Bayes spam filtering',\n",
       " 'Bayesian inference']"
      ]
     },
     "execution_count": 29,
     "metadata": {},
     "output_type": "execute_result"
    }
   ],
   "source": [
    "wk.search('Bayes theorem')"
   ]
  },
  {
   "cell_type": "code",
   "execution_count": 32,
   "metadata": {},
   "outputs": [
    {
     "data": {
      "text/plain": [
       "'Data science is an interdisciplinary field that uses scientific methods, processes, algorithms and systems to extract knowledge and insights from noisy, structured and unstructured data, and apply knowledge and actionable insights from data across a broad range of application domains. Data science is related to data mining, machine learning and big data.\\nData science is a \"concept to unify statistics, data analysis, informatics, and their related methods\" in order to \"understand and analyse actual phenomena\" with data. It uses techniques and theories drawn from many fields within the context of mathematics, statistics, computer science, information science, and domain knowledge. However, data science is different from computer science and information science. Turing Award winner Jim Gray imagined data science as a \"fourth paradigm\" of science (empirical, theoretical, computational, and now data-driven) and asserted that \"everything about science is changing because of the impact of information technology\" and the data deluge.\\nA data scientist is someone who creates programming code and combines it with statistical knowledge to create insights from data.\\n\\n\\n== Foundations ==\\nData science is an interdisciplinary field focused on extracting knowledge from data sets, which are typically large (see big data), and applying the knowledge and actionable insights from data to solve problems in a wide range of application domains. The field encompasses preparing data for analysis, formulating data science problems, analyzing data, developing data-driven solutions, and presenting findings to inform high-level decisions in a broad range of application domains. As such, it incorporates skills from computer science, statistics, information science, mathematics, data visualization, information visualization, data sonification, data integration, graphic design, complex systems, communication and business. Statistician Nathan Yau, drawing on Ben Fry, also links data science to human–computer interaction: users should be able to intuitively control and explore data. In 2015, the American Statistical Association identified database management, statistics and machine learning, and distributed and parallel systems as the three emerging foundational professional communities.\\n\\n\\n=== Relationship to statistics ===\\nMany statisticians, including Nate Silver, have argued that data science is not a new field, but rather another name for statistics. Others argue that data science is distinct from statistics because it focuses on problems and techniques unique to digital data. Vasant Dhar writes that statistics emphasizes quantitative data and description. In contrast, data science deals with quantitative and qualitative data (e.g. images) and emphasizes prediction and action. Andrew Gelman of Columbia University has described statistics as a nonessential part of data science.\\nStanford professor David Donoho writes that data science is not distinguished from statistics by the size of datasets or use of computing, and that many graduate programs misleadingly advertise their analytics and statistics training as the essence of a data-science program. He describes data science as an applied field growing out of traditional statistics. \\nIn summary, data science can be therefore described as an applied branch of statistics.\\n\\n\\n== Etymology ==\\n\\n\\n=== Early usage ===\\nIn 1962, John Tukey described a field he called \"data analysis\", which resembles modern data science. In 1985, in a lecture given to the Chinese Academy of Sciences in Beijing, C. F. Jeff Wu used the term \"data science\" for the first time as an alternative name for statistics. Later, attendees at a 1992 statistics symposium at the University of Montpellier II acknowledged the emergence of a new discipline focused on data of various origins and forms, combining established concepts and principles of statistics and data analysis with computing.The term \"data science\" has been traced back to 1974, when Peter Naur proposed it as an alternative name for computer science. In 1996, the International Federation of Classification Societies became the first conference to specifically feature data science as a topic. However, the definition was still in flux. After the 1985 lecture in the Chinese Academy of Sciences in Beijing, in 1997 C. F. Jeff Wu again suggested that statistics should be renamed data science. He reasoned that a new name would help statistics shed inaccurate stereotypes, such as being synonymous with accounting, or limited to describing data. In 1998, Hayashi Chikio argued for data science as a new, interdisciplinary concept, with three aspects: data design, collection, and analysis.During the 1990s, popular terms for the process of finding patterns in datasets (which were increasingly large) included \"knowledge discovery\" and \"data mining\".\\n\\n\\n=== Modern usage ===\\nThe modern conception of data science as an independent discipline is sometimes attributed to William S. Cleveland. In a 2001 paper, he advocated an expansion of statistics beyond theory into technical areas; because this would significantly change the field, it warranted a new name. \"Data science\" became more widely used in the next few years: in 2002, the Committee on Data for Science and Technology launched Data Science Journal. In 2003, Columbia University launched The Journal of Data Science. In 2014, the American Statistical Association\\'s Section on Statistical Learning and Data Mining changed its name to the Section on Statistical Learning and Data Science, reflecting the ascendant popularity of data science.The professional title of \"data scientist\" has been attributed to DJ Patil and Jeff Hammerbacher in 2008. Though it was used by the National Science Board in their 2005 report \"Long-Lived Digital Data Collections: Enabling Research and Education in the 21st Century\", it referred broadly to any key role in managing a digital data collection.There is still no consensus on the definition of data science, and it is considered by some to be a buzzword.Big data is a related marketing term. Data scientists are responsible for breaking down big data into usable information and creating software and algorithms that help companies and organizations determine optimal operations.\\n\\n\\n== See also ==\\nInternational Journal of Population Data Science\\n\\n\\n== References =='"
      ]
     },
     "execution_count": 32,
     "metadata": {},
     "output_type": "execute_result"
    }
   ],
   "source": [
    "page= wk.page('Data Science')\n",
    "page.content"
   ]
  },
  {
   "cell_type": "markdown",
   "metadata": {},
   "source": [
    "## Scraping using Geocoding API of Open Street Maps(OSM)"
   ]
  },
  {
   "cell_type": "code",
   "execution_count": null,
   "metadata": {},
   "outputs": [],
   "source": [
    "!pip install geopandas\n",
    "!pip install geopy"
   ]
  },
  {
   "cell_type": "code",
   "execution_count": 34,
   "metadata": {},
   "outputs": [],
   "source": [
    "from geopy.geocoders import Nominatim"
   ]
  },
  {
   "cell_type": "code",
   "execution_count": 44,
   "metadata": {},
   "outputs": [
    {
     "name": "stdout",
     "output_type": "stream",
     "text": [
      "Happy Birthday Wishes, Madan St, Esplanade, Chandni Chawk, Bowbazar, Kolkata, West Bengal, Madan Street, Esplanade, Kolkata, West Bengal, 700013, India\n",
      "22.5666449 88.3544854\n",
      "{'place_id': 69577529, 'licence': 'Data © OpenStreetMap contributors, ODbL 1.0. https://osm.org/copyright', 'osm_type': 'node', 'osm_id': 6433621206, 'boundingbox': ['22.5665949', '22.5666949', '88.3544354', '88.3545354'], 'lat': '22.5666449', 'lon': '88.3544854', 'display_name': 'Happy Birthday Wishes, Madan St, Esplanade, Chandni Chawk, Bowbazar, Kolkata, West Bengal, Madan Street, Esplanade, Kolkata, West Bengal, 700013, India', 'class': 'shop', 'type': 'supermarket', 'importance': 0.31100000000000005, 'icon': 'https://nominatim.openstreetmap.org/ui/mapicons//shopping_supermarket.p.20.png'}\n"
     ]
    }
   ],
   "source": [
    "locator = Nominatim(user_agent=\"Sudipto\")\n",
    "location = locator.geocode(\"Kolkata, West Bengal\")\n",
    "print(location.address)\n",
    "print(location.latitude, location.longitude)\n",
    "print(location.raw)\n",
    "\n"
   ]
  }
 ],
 "metadata": {
  "interpreter": {
   "hash": "18d6701beecf512bb329d8afc849c6be09654d3e83987a0574c7a1a7226b9cc3"
  },
  "kernelspec": {
   "display_name": "Python 3.10.2 64-bit",
   "language": "python",
   "name": "python3"
  },
  "language_info": {
   "codemirror_mode": {
    "name": "ipython",
    "version": 3
   },
   "file_extension": ".py",
   "mimetype": "text/x-python",
   "name": "python",
   "nbconvert_exporter": "python",
   "pygments_lexer": "ipython3",
   "version": "3.10.2"
  },
  "orig_nbformat": 4
 },
 "nbformat": 4,
 "nbformat_minor": 2
}
